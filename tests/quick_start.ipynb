{
  "cells": [
    {
      "cell_type": "markdown",
      "metadata": {
        "vscode": {
          "languageId": "raw"
        }
      },
      "source": [
        "# PubPeek 学者文献分析工具 - 简化版本\n",
        "\n",
        "本Notebook展示如何使用新的 `ReportGenerator` 类来简化代码，消除重复逻辑。\n",
        "\n",
        "本Notebook演示如何使用PubPeek进行完整的个人文献分析流程，包括：\n",
        "- BibTeX文件解析\n",
        "- 论文去重处理\n",
        "- CCF分级匹配\n",
        "- 中科院分区匹配\n",
        "- 结果导出\n"
      ]
    },
    {
      "cell_type": "code",
      "execution_count": 1,
      "metadata": {},
      "outputs": [
        {
          "name": "stdout",
          "output_type": "stream",
          "text": [
            "成功加载CCF数据: 644 条记录\n",
            "成功加载中科院数据: 21772 条记录\n",
            "所有组件初始化完成！\n"
          ]
        }
      ],
      "source": [
        "# 导入必要的模块\n",
        "import sys\n",
        "sys.path.append('../')\n",
        "from core import Config, BibTexParser, PublicationExtractor, RankingMatcher\n",
        "from utils import DataProcessor, ReportGenerator  # 新增 ReportGenerator\n",
        "import pandas as pd\n",
        "\n",
        "# 创建配置\n",
        "config = Config('../config.json')\n",
        "\n",
        "# 初始化组件\n",
        "bib_parser = BibTexParser()\n",
        "\n",
        "# 创建PublicationExtractor的配置字典\n",
        "extractor_config = {\n",
        "    'timeout': config.get('network.timeout', 120),\n",
        "    'sleep_interval': config.get('network.sleep_interval', 3),\n",
        "    'proxies': config.get_proxies()\n",
        "}\n",
        "\n",
        "publication_extractor = PublicationExtractor(extractor_config)\n",
        "ranking_matcher = RankingMatcher(\n",
        "    ccf_file='../data/CCF2022-UTF8.csv',\n",
        "    cas_file='../data/FQBJCR2025-UTF8.csv'\n",
        ")\n",
        "data_processor = DataProcessor()\n",
        "report_generator = ReportGenerator()  # 新增报告生成器\n",
        "\n",
        "print(\"所有组件初始化完成！\")\n"
      ]
    },
    {
      "cell_type": "code",
      "execution_count": 2,
      "metadata": {},
      "outputs": [
        {
          "name": "stdout",
          "output_type": "stream",
          "text": [
            "1. 解析BibTeX文件...\n",
            "   解析完成: 179 篇论文\n",
            "\n",
            "2. 论文去重处理...\n",
            "\n",
            "3. 提取出版物信息...\n",
            "   去重完成: 原始 179 篇 → 去重后 168 篇\n",
            "   去除重复: 11 篇\n",
            "   找到 64 个出版物: 26 个期刊，38 个会议\n",
            "   论文分布: 55 篇期刊论文，111 篇会议论文\n"
          ]
        }
      ],
      "source": [
        "# 1. 解析BibTeX文件\n",
        "print(\"1. 解析BibTeX文件...\")\n",
        "df = bib_parser.parse_file('../users/default_user/raw/references.bib')\n",
        "print(f\"   解析完成: {len(df)} 篇论文\")\n",
        "\n",
        "# 2. 去重处理\n",
        "print(\"\\n2. 论文去重处理...\")\n",
        "df_deduplicated = data_processor.deduplicate_papers(df, verbose=False)\n",
        "\n",
        "# 3. 提取出版物信息\n",
        "print(\"\\n3. 提取出版物信息...\")\n",
        "valid_papers, publication_counts, publication_types = publication_extractor.extract_unique_publication_abbrs(df_deduplicated)\n",
        "\n",
        "# 使用新的报告生成器打印处理摘要\n",
        "report_generator.print_processing_summary(\n",
        "    df, df_deduplicated, publication_counts, publication_types, None\n",
        ")\n"
      ]
    },
    {
      "cell_type": "code",
      "execution_count": 3,
      "metadata": {},
      "outputs": [
        {
          "name": "stdout",
          "output_type": "stream",
          "text": [
            "\n",
            "4. 获取DBLP出版物信息...\n",
            "\n",
            "5. 匹配出版物分区...\n",
            "\n",
            "6. 生成统计摘要...\n",
            "✅ 数据处理完成！\n"
          ]
        }
      ],
      "source": [
        "# 4. 获取DBLP出版物信息\n",
        "print(\"\\n4. 获取DBLP出版物信息...\")\n",
        "cache_file = '../cache/dblp_cache.json'\n",
        "publications_info = publication_extractor.batch_extract_publication_info(\n",
        "    publication_counts, \n",
        "    publication_types,\n",
        "    cache_file=cache_file\n",
        ")\n",
        "\n",
        "# 5. 匹配出版物分区\n",
        "print(\"\\n5. 匹配出版物分区...\")\n",
        "ranking_results = ranking_matcher.batch_match_publications(publications_info)\n",
        "\n",
        "# 6. 生成统计摘要\n",
        "print(\"\\n6. 生成统计摘要...\")\n",
        "detailed_summary = ranking_matcher.generate_detailed_summary(ranking_results, publication_counts)\n",
        "\n",
        "print(\"✅ 数据处理完成！\")\n"
      ]
    },
    {
      "cell_type": "code",
      "execution_count": 4,
      "metadata": {},
      "outputs": [
        {
          "name": "stdout",
          "output_type": "stream",
          "text": [
            "\n",
            "7. 生成和保存完整报告...\n",
            "为论文添加分区信息...\n",
            "分区信息添加完成:\n",
            "  处理论文数: 159\n",
            "  CCF匹配数: 93\n",
            "  中科院匹配数: 33\n",
            "✅ 报告生成完成！\n"
          ]
        }
      ],
      "source": [
        "# 7. 生成和保存完整报告 - 新的简化方式！\n",
        "print(\"\\n7. 生成和保存完整报告...\")\n",
        "\n",
        "# 为每篇论文添加CCF和中科院分区信息\n",
        "df_with_rankings = data_processor.add_ranking_info_to_papers(df_deduplicated, ranking_results)\n",
        "\n",
        "# 使用新的报告生成器，一次性完成所有保存和统计分析\n",
        "# 之前这里需要50多行代码，现在只需要一个函数调用！\n",
        "output_dir = '../users/default_user/processed'\n",
        "report_results = report_generator.generate_and_save_complete_report(\n",
        "    df_with_rankings,\n",
        "    ranking_results,\n",
        "    publication_counts,\n",
        "    detailed_summary,\n",
        "    output_dir,\n",
        "    data_processor\n",
        ")\n",
        "\n",
        "print(\"✅ 报告生成完成！\")\n"
      ]
    },
    {
      "cell_type": "code",
      "execution_count": 5,
      "metadata": {},
      "outputs": [
        {
          "name": "stdout",
          "output_type": "stream",
          "text": [
            "\n",
            "=== 方式1：最终统计结果 ===\n",
            "\n",
            "=== 分区匹配结果统计 ===\n",
            "CCF分级统计 (论文数量):\n",
            "  总匹配: 40/64 个出版物\n",
            "  期刊论文: A类=5篇, B类=13篇, C类=5篇\n",
            "  会议论文: A类=27篇, B类=30篇, C类=14篇\n",
            "\n",
            "中科院分区统计 (期刊论文数量):\n",
            "  总匹配: 22 个期刊\n",
            "  期刊论文: 1区=11篇, 2区=8篇, 3区=9篇, 4区=5篇\n",
            "  Top期刊论文: 11篇\n",
            "\n",
            "=== 论文分区统计总结 ===\n",
            "📊 总论文数: 168\n",
            "🏆 CCF-A类+中科院1区: 37篇\n",
            "🌟 CCF-A/B类+中科院1/2区: 85篇\n",
            "🎯 CCF-A类: 31篇 | CCF-B类: 43篇 | CCF-C类: 19篇\n",
            "⭐ 中科院TOP: 11篇\n",
            "🔬 中科院1区: 11篇 | 2区: 8篇 | 3区: 9篇 | 4区: 5篇\n",
            "\n",
            "=== 方式2：详细论文统计分析 ===\n",
            "=== 论文分区统计分析 ===\n",
            "\n",
            "📊 总论文数: 168\n",
            "\n",
            "=== CCF分区统计 ===\n",
            "🅰️  CCF-A类论文: 31篇 (18.5%)\n",
            "🅱️  CCF-B类论文: 43篇 (25.6%)\n",
            "🅲  CCF-C类论文: 19篇 (11.3%)\n",
            "\n",
            "=== 中科院分区统计 ===\n",
            "🥇 中科院1区论文: 11篇 (6.5%)\n",
            "⭐ 中科院1区TOP论文: 11篇 (6.5%)\n",
            "🥈 中科院2区论文: 8篇 (4.8%)\n",
            "🥉 中科院3区论文: 9篇 (5.4%)\n",
            "🏅 中科院4区论文: 5篇 (3.0%)\n",
            "\n",
            "=== 组合统计 (去重) ===\n",
            "🏆 CCF-A类 + 中科院1区 (并集): 37篇 (22.0%)\n",
            "🌟 CCF-A/B类 + 中科院1/2区 (并集): 85篇 (50.6%)\n",
            "\n",
            "✅ 处理完成！结果已保存到: ../users/default_user/processed\n",
            "📁 生成的文件:\n",
            "  - 带分区信息的论文: ../users/default_user/processed/papers_with_rankings.xlsx\n",
            "  - 详细匹配结果: ../users/default_user/processed/journal_rankings.xlsx\n",
            "  - 统计摘要JSON: ../users/default_user/processed/summary.json\n",
            "  - CCF-A类+中科院1区论文: ../users/default_user/processed/ccf_a_cas_1_papers.xlsx\n",
            "  - CCF-A/B类+中科院1/2区论文: ../users/default_user/processed/ccf_ab_cas_12_papers.xlsx\n"
          ]
        }
      ],
      "source": [
        "# 8. 打印统计结果 - 也可以选择不同的打印格式\n",
        "ranking_stats = report_results['ranking_stats']\n",
        "\n",
        "# 方式1：打印最终统计结果（简洁版）\n",
        "print(\"\\n=== 方式1：最终统计结果 ===\")\n",
        "report_generator.print_final_statistics(detailed_summary, ranking_stats)\n",
        "\n",
        "# 方式2：打印详细的论文统计分析（详细版\n",
        "print(\"\\n=== 方式2：详细论文统计分析 ===\")\n",
        "report_generator.print_detailed_paper_statistics(ranking_stats)\n",
        "\n",
        "print(f\"\\n✅ 处理完成！结果已保存到: {output_dir}\")\n",
        "print(f\"📁 生成的文件:\")\n",
        "print(f\"  - 带分区信息的论文: {report_results['ranked_files']['excel']}\")\n",
        "print(f\"  - 详细匹配结果: {report_results['rankings_excel']}\")\n",
        "print(f\"  - 统计摘要JSON: {report_results['summary_json']}\")\n",
        "\n",
        "# 显示特殊论文列表\n",
        "if 'ccf_a_cas_1' in report_results['special_papers_files']:\n",
        "    print(f\"  - CCF-A类+中科院1区论文: {report_results['special_papers_files']['ccf_a_cas_1']['excel']}\")\n",
        "if 'ccf_ab_cas_12' in report_results['special_papers_files']:\n",
        "    print(f\"  - CCF-A/B类+中科院1/2区论文: {report_results['special_papers_files']['ccf_ab_cas_12']['excel']}\")\n"
      ]
    },
    {
      "cell_type": "code",
      "execution_count": 1,
      "metadata": {},
      "outputs": [],
      "source": [
        "# 年份区间"
      ]
    },
    {
      "cell_type": "code",
      "execution_count": null,
      "metadata": {},
      "outputs": [],
      "source": []
    }
  ],
  "metadata": {
    "kernelspec": {
      "display_name": "modularRAG",
      "language": "python",
      "name": "modularrag"
    },
    "language_info": {
      "codemirror_mode": {
        "name": "ipython",
        "version": 3
      },
      "file_extension": ".py",
      "mimetype": "text/x-python",
      "name": "python",
      "nbconvert_exporter": "python",
      "pygments_lexer": "ipython3",
      "version": "3.13.2"
    }
  },
  "nbformat": 4,
  "nbformat_minor": 2
}
